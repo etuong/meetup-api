{
 "cells": [
  {
   "cell_type": "code",
   "execution_count": 1,
   "id": "44cbf318-6e34-46b8-bf5a-021978377d59",
   "metadata": {},
   "outputs": [],
   "source": [
    "%matplotlib inline"
   ]
  },
  {
   "cell_type": "code",
   "execution_count": 2,
   "id": "7b0f0e6c-d922-41ae-bc04-23e85ff54d1f",
   "metadata": {},
   "outputs": [],
   "source": [
    "import warnings\n",
    "warnings.filterwarnings('ignore')\n",
    "\n",
    "from tabulate import tabulate\n",
    "import matplotlib.pyplot as plt\n",
    "import sqlite3\n",
    "import pandas as pd\n",
    "import numpy as np\n",
    "import seaborn as sns\n",
    "import random as py_random\n",
    "import scipy.stats as stats\n",
    "\n",
    "sns.set(style=\"whitegrid\")"
   ]
  },
  {
   "cell_type": "markdown",
   "id": "66827e96",
   "metadata": {},
   "source": [
    "# Extract, Transform, Load (ETL)"
   ]
  },
  {
   "cell_type": "markdown",
   "id": "c2250e29",
   "metadata": {},
   "source": [
    "At this point, we should have:\n",
    "\n",
    "1. `meetup.sql` will create the data schema.\n",
    "2. `meetup.py` will fill the database tables with the correct data from the meetup JSON.\n",
    "3. `meetup.db` will have the data in it."
   ]
  },
  {
   "cell_type": "code",
   "execution_count": 3,
   "id": "d1143e63-2170-4150-ae35-90c4415c5ba9",
   "metadata": {},
   "outputs": [],
   "source": [
    "conn = sqlite3.connect('meetup.db')\n",
    "cursor = conn.cursor()"
   ]
  },
  {
   "cell_type": "markdown",
   "id": "8fc7deab",
   "metadata": {},
   "source": [
    "Before we start with the exploratory data analysis, let us examine the dataset to get a feeling of the sort of data we are handling.\n",
    "\n",
    "As a summary from the \"Ask\" part of the assignment, here are some questions to bear in mind while doing the analysis.\n",
    "1. What kind of events draw the most reservation? Board games? Karaoke? Hiking?\n",
    "1. What day of the week is the most popular?\n",
    "1. What time of the day do most members RSVP?\n",
    "1. How many events have we had in total in the past years? Are we collectively becoming more popular as a group?\n",
    "1. Are members more inclined to join events that are relatively more popular? What are some of the most popular events and what do they have in common?\n",
    "1. When members RSVP for an event, the data should provide information about this time. Is there a time that is more favorable to announce an event?\n",
    "\n",
    "We can start by peeking at the schema. Limit to just first 30 rows.\n",
    "\n",
    "Event can be viewed with URL https://www.meetup.com/{group_name}/events/{event_id}/\n",
    "\n",
    "For example, if the event ID is 281289732 for 1-5GenAsians group, https://www.meetup.com/1-5GenAsians/events/281289732/"
   ]
  },
  {
   "cell_type": "code",
   "execution_count": 4,
   "id": "3740baaf",
   "metadata": {
    "scrolled": false
   },
   "outputs": [
    {
     "name": "stdout",
     "output_type": "stream",
     "text": [
      "+------------+--------------+--------------+---------+----------+---------------+\n",
      "|   Event ID | Event Date   |   RSVP Count |     Lat |      Lon | City          |\n",
      "|------------+--------------+--------------+---------+----------+---------------|\n",
      "|  109370632 | 2013-03-22   |            5 | 47.6816 | -122.126 | Redmond       |\n",
      "|  109868492 | 2013-03-23   |            6 | 47.5287 | -121.825 | Snoqualmie    |\n",
      "|  111080172 | 2013-03-30   |           11 | 47.612  | -122.199 | Bellevue      |\n",
      "|  111088522 | 2013-03-30   |            3 | 48.0043 | -122.214 | Everett 98201 |\n",
      "|  110749042 | 2013-03-31   |            8 | 47.6034 | -122.201 | Bellevue      |\n",
      "|  111871212 | 2013-04-05   |           10 | 47.6098 | -122.204 | Bellevue      |\n",
      "|  112504332 | 2013-04-06   |            8 | 47.667  | -122.1   | Redmond       |\n",
      "|  113192492 | 2013-04-12   |           10 | 47.62   | -122.202 | Bellevue      |\n",
      "|  113176612 | 2013-04-13   |            4 | 47.6573 | -122.318 | Seattle       |\n",
      "|  114838502 | 2013-04-19   |            3 |         |          |               |\n",
      "|  116882312 | 2013-05-03   |            8 | 47.5772 | -122.169 | Bellevue      |\n",
      "|  113174462 | 2013-05-04   |            6 | 47.8593 | -121.971 | Monroe        |\n",
      "|  118200732 | 2013-05-11   |           10 | 47.612  | -122.199 | Bellevue      |\n",
      "|  119185682 | 2013-05-18   |            9 | 47.5984 | -122.325 | Seattle       |\n",
      "|  120390832 | 2013-05-24   |            8 | 47.7127 | -122.187 | Kirkland      |\n",
      "|  121853942 | 2013-06-02   |            9 | 47.5836 | -122.131 | Bellevue      |\n",
      "|  123022632 | 2013-06-07   |            8 | 47.613  | -122.2   | Bellevue      |\n",
      "|  123844992 | 2013-06-15   |           25 | 47.6906 | -122.402 | Seattle       |\n",
      "|  126498932 | 2013-06-28   |           11 | 47.6233 | -122.161 | Bellevue      |\n",
      "|  126318262 | 2013-06-29   |            1 |         |          |               |\n",
      "|  127652212 | 2013-07-03   |            4 | 47.7553 | -122.163 | Woodinville   |\n",
      "|  123571462 | 2013-07-06   |            3 | 47.6303 | -122.193 | Bellevue      |\n",
      "|  129354962 | 2013-07-13   |            3 | 47.599  | -122.325 | Seattle       |\n",
      "|  129003072 | 2013-07-13   |            7 | 47.6747 | -122.208 | Kirkland      |\n",
      "|  130608792 | 2013-07-27   |           20 | 47.5839 | -122.129 | Bellevue      |\n",
      "|  133462162 | 2013-08-10   |           12 | 47.7051 | -122.213 | Kirkland      |\n",
      "|  134488172 | 2013-08-17   |            9 | 47.6167 | -122.201 | Bellevue      |\n",
      "|  135768512 | 2013-08-24   |           21 | 47.5984 | -122.323 | Seattle       |\n",
      "|  136619502 | 2013-08-31   |           11 | 47.5836 | -122.131 | Bellevue      |\n",
      "|  135478542 | 2013-09-07   |            9 | 47.6659 | -122.114 | Redmond       |\n",
      "+------------+--------------+--------------+---------+----------+---------------+\n"
     ]
    }
   ],
   "source": [
    "data = cursor.execute(\"select event_id,event_date, rsvp_count, venue_lat, venue_lon, venue_city from event limit 30;\")\n",
    "print(tabulate(data.fetchall(), headers=[\"Event ID\", \"Event Date\", 'RSVP Count', \"Lat\", \"Lon\", \"City\"], tablefmt='psql'))"
   ]
  },
  {
   "cell_type": "markdown",
   "id": "21677655",
   "metadata": {},
   "source": [
    "Let's see some of the most popular events. I define this to be events with the most RSVP."
   ]
  },
  {
   "cell_type": "code",
   "execution_count": 5,
   "id": "a4d09322",
   "metadata": {},
   "outputs": [
    {
     "name": "stdout",
     "output_type": "stream",
     "text": [
      "+--------------+--------------+------------+\n",
      "| Event Date   |   RSVP Count |   Event ID |\n",
      "|--------------+--------------+------------|\n",
      "| 2015-03-01   |          109 |  219920453 |\n",
      "| 2014-11-02   |          105 |  212049012 |\n",
      "| 2016-10-09   |          102 |  233570064 |\n",
      "| 2016-04-30   |           85 |  230305968 |\n",
      "| 2019-12-21   |           83 |  266398172 |\n",
      "| 2018-03-24   |           82 |  248285057 |\n",
      "| 2018-06-10   |           80 |  250424473 |\n",
      "| 2021-08-29   |           69 |  279628714 |\n",
      "| 2014-08-17   |           57 |  194901992 |\n",
      "| 2019-01-26   |           54 |  257948178 |\n",
      "| 2015-03-14   |           47 |  220103990 |\n",
      "| 2021-10-17   |           46 |  281053389 |\n",
      "| 2014-06-21   |           44 |  182543572 |\n",
      "| 2017-10-14   |           43 |  243442670 |\n",
      "| 2014-03-29   |           40 |  164683122 |\n",
      "+--------------+--------------+------------+\n"
     ]
    }
   ],
   "source": [
    "data = cursor.execute(\"select event_date, rsvp_count, event_id from event order by rsvp_count desc limit 15;\")\n",
    "print(tabulate(data.fetchall(), headers=['Event Date', 'RSVP Count', 'Event ID'], tablefmt='psql'))"
   ]
  },
  {
   "cell_type": "code",
   "execution_count": 6,
   "id": "92ba4269",
   "metadata": {},
   "outputs": [
    {
     "name": "stdout",
     "output_type": "stream",
     "text": [
      "Total number of events is 814\n"
     ]
    }
   ],
   "source": [
    "data = cursor.execute(\"select count(*) from event;\")\n",
    "print(f\"Total number of events is {data.fetchone()[0]}\")"
   ]
  },
  {
   "cell_type": "markdown",
   "id": "a96812b8",
   "metadata": {},
   "source": [
    "Let's see the number of events we have for each month since this group was founded in 2013."
   ]
  },
  {
   "cell_type": "code",
   "execution_count": 7,
   "id": "a9bc3a21",
   "metadata": {
    "scrolled": true
   },
   "outputs": [
    {
     "name": "stdout",
     "output_type": "stream",
     "text": [
      "+---------+--------------------+\n",
      "| Month   |   Number of Events |\n",
      "|---------+--------------------|\n",
      "| 2013-03 |                  5 |\n",
      "| 2013-04 |                  5 |\n",
      "| 2013-05 |                  5 |\n",
      "| 2013-06 |                  5 |\n",
      "| 2013-07 |                  5 |\n",
      "| 2013-08 |                  4 |\n",
      "| 2013-09 |                  4 |\n",
      "| 2013-10 |                  7 |\n",
      "| 2013-11 |                  9 |\n",
      "| 2013-12 |                  6 |\n",
      "| 2014-01 |                  7 |\n",
      "| 2014-02 |                  3 |\n",
      "| 2014-03 |                  3 |\n",
      "| 2014-04 |                  7 |\n",
      "| 2014-05 |                 11 |\n",
      "| 2014-06 |                  4 |\n",
      "| 2014-07 |                  3 |\n",
      "| 2014-08 |                  4 |\n",
      "| 2014-09 |                  4 |\n",
      "| 2014-10 |                  8 |\n",
      "| 2014-11 |                  4 |\n",
      "| 2014-12 |                  2 |\n",
      "| 2015-01 |                  6 |\n",
      "| 2015-02 |                  6 |\n",
      "| 2015-03 |                  6 |\n",
      "| 2015-04 |                  4 |\n",
      "| 2015-05 |                  3 |\n",
      "| 2015-06 |                  6 |\n",
      "| 2015-07 |                  3 |\n",
      "| 2015-08 |                  6 |\n",
      "| 2015-09 |                 11 |\n",
      "| 2015-10 |                 11 |\n",
      "| 2015-11 |                 12 |\n",
      "| 2015-12 |                  9 |\n",
      "| 2016-01 |                 10 |\n",
      "| 2016-02 |                 10 |\n",
      "| 2016-03 |                 17 |\n",
      "| 2016-04 |                 16 |\n",
      "| 2016-05 |                  7 |\n",
      "| 2016-06 |                  7 |\n",
      "| 2016-07 |                 11 |\n",
      "| 2016-08 |                  2 |\n",
      "| 2016-09 |                  4 |\n",
      "| 2016-10 |                  4 |\n",
      "| 2016-11 |                  4 |\n",
      "| 2016-12 |                  6 |\n",
      "| 2017-01 |                  5 |\n",
      "| 2017-02 |                  4 |\n",
      "| 2017-03 |                  2 |\n",
      "| 2017-04 |                  2 |\n",
      "| 2017-05 |                  1 |\n",
      "| 2017-06 |                  2 |\n",
      "| 2017-07 |                  3 |\n",
      "| 2017-08 |                  2 |\n",
      "| 2017-10 |                  4 |\n",
      "| 2017-11 |                  9 |\n",
      "| 2017-12 |                  5 |\n",
      "| 2018-01 |                 10 |\n",
      "| 2018-02 |                 16 |\n",
      "| 2018-03 |                 14 |\n",
      "| 2018-04 |                 16 |\n",
      "| 2018-05 |                 17 |\n",
      "| 2018-06 |                 12 |\n",
      "| 2018-07 |                 16 |\n",
      "| 2018-08 |                 12 |\n",
      "| 2018-09 |                 15 |\n",
      "| 2018-10 |                 11 |\n",
      "| 2018-11 |                 14 |\n",
      "| 2018-12 |                 12 |\n",
      "| 2019-01 |                 13 |\n",
      "| 2019-02 |                 10 |\n",
      "| 2019-03 |                 23 |\n",
      "| 2019-04 |                 12 |\n",
      "| 2019-05 |                 11 |\n",
      "| 2019-06 |                 12 |\n",
      "| 2019-07 |                 14 |\n",
      "| 2019-08 |                 17 |\n",
      "| 2019-09 |                  8 |\n",
      "| 2019-10 |                  6 |\n",
      "| 2019-11 |                  4 |\n",
      "| 2019-12 |                  9 |\n",
      "| 2020-01 |                  5 |\n",
      "| 2020-02 |                 11 |\n",
      "| 2020-03 |                  3 |\n",
      "| 2020-04 |                  6 |\n",
      "| 2020-05 |                  5 |\n",
      "| 2020-06 |                  4 |\n",
      "| 2020-07 |                  4 |\n",
      "| 2020-08 |                  2 |\n",
      "| 2020-10 |                  1 |\n",
      "| 2020-11 |                  1 |\n",
      "| 2021-01 |                  5 |\n",
      "| 2021-02 |                  3 |\n",
      "| 2021-04 |                  4 |\n",
      "| 2021-05 |                  4 |\n",
      "| 2021-06 |                  3 |\n",
      "| 2021-07 |                 12 |\n",
      "| 2021-08 |                 22 |\n",
      "| 2021-09 |                 24 |\n",
      "| 2021-10 |                 47 |\n",
      "| 2021-11 |                  7 |\n",
      "| 2021-12 |                  1 |\n",
      "| 2022-03 |                  1 |\n",
      "+---------+--------------------+\n"
     ]
    }
   ],
   "source": [
    "num_event_per_month = list(cursor.execute(\"\"\"select strftime('%Y-%m', event_date), count(*) from event \n",
    "    group by strftime('%Y-%m', event_date);\"\"\"))\n",
    "print(tabulate(num_event_per_month, headers=['Month', 'Number of Events'], tablefmt='psql'))"
   ]
  },
  {
   "cell_type": "markdown",
   "id": "7402ca16",
   "metadata": {},
   "source": [
    "Looks like there was a big spike after July 2022. This was when Coronavirus quarantine and regulations were more relaxed in Seattle and people were able to enjoy more festive events and activities. My guess is that people were tired of being cooped up at home for over a year and a half so now they are eager to go out and socialize."
   ]
  },
  {
   "cell_type": "code",
   "execution_count": 8,
   "id": "998119e0",
   "metadata": {},
   "outputs": [
    {
     "data": {
      "image/png": "[encoded data removed]",
      "text/plain": [
       "<Figure size 1440x432 with 1 Axes>"
      ]
     },
     "metadata": {},
     "output_type": "display_data"
    }
   ],
   "source": [
    "num_event_per_month = list(num_event_per_month)[-24:]\n",
    "x = range(len(num_event_per_month))\n",
    "width = 1/1.5\n",
    "\n",
    "figure = plt.figure(figsize=(20, 6))\n",
    "\n",
    "axes = figure.add_subplot(1, 1, 1)\n",
    "axes.bar(x, [r[1] for r in num_event_per_month], width, align=\"center\")\n",
    "axes.set_xticks(x)\n",
    "axes.set_xticklabels([r[0] for r in num_event_per_month])\n",
    "axes.set_title(\"Number of Events Per Month\")\n",
    "axes.set_xlabel(\"Month\")\n",
    "axes.set_ylabel(\"# of Events\")\n",
    "axes.xaxis.grid(False)\n",
    "\n",
    "plt.setp(axes.xaxis.get_majorticklabels(), rotation=70)\n",
    "plt.show()\n",
    "plt.close();"
   ]
  },
  {
   "cell_type": "markdown",
   "id": "d0c57564",
   "metadata": {},
   "source": [
    "Next, I'm interested to see how many events we have per year and the number of events we hold per weekday"
   ]
  },
  {
   "cell_type": "code",
   "execution_count": 9,
   "id": "f4cd056e",
   "metadata": {
    "scrolled": false
   },
   "outputs": [
    {
     "name": "stdout",
     "output_type": "stream",
     "text": [
      "+--------+--------------------+\n",
      "|   Year |   Number of Events |\n",
      "|--------+--------------------|\n",
      "|   2013 |                 55 |\n",
      "|   2014 |                 60 |\n",
      "|   2015 |                 83 |\n",
      "|   2016 |                 98 |\n",
      "|   2017 |                 39 |\n",
      "|   2018 |                165 |\n",
      "|   2019 |                139 |\n",
      "|   2020 |                 42 |\n",
      "|   2021 |                132 |\n",
      "|   2022 |                  1 |\n",
      "+--------+--------------------+\n"
     ]
    },
    {
     "data": {
      "image/png": "[encoded data removed]",
      "text/plain": [
       "<Figure size 1080x432 with 1 Axes>"
      ]
     },
     "metadata": {},
     "output_type": "display_data"
    }
   ],
   "source": [
    "num_event_per_year = list(cursor.execute(\"\"\"select strftime('%Y', event_date), count(*) from event \n",
    "    group by strftime('%Y', event_date);\"\"\"))\n",
    "print(tabulate(num_event_per_year, headers=['Year', 'Number of Events'], tablefmt='psql'))\n",
    "\n",
    "figure = plt.figure(figsize=(15, 6))\n",
    "\n",
    "axes = figure.add_subplot(1, 1, 1)\n",
    "axes.plot([r[0] for r in num_event_per_year], [r[1] for r in num_event_per_year])\n",
    "axes.plot([r[0] for r in num_event_per_year], [r[1] for r in num_event_per_year], 'ro')\n",
    "plt.axis([-1, 10, -5, 180])\n",
    "plt.show()"
   ]
  },
  {
   "cell_type": "markdown",
   "id": "55831ee9",
   "metadata": {},
   "source": [
    "2020 experienced a low dip most definitely due to the pandemic. The data (through inspection) preliminarily suggests that most events were online but rose to face to face interaction starting back in 2021."
   ]
  },
  {
   "cell_type": "code",
   "execution_count": 10,
   "id": "d34b1289",
   "metadata": {},
   "outputs": [
    {
     "name": "stdout",
     "output_type": "stream",
     "text": [
      "+-------------------+--------------------+\n",
      "|   Day of the Week |   Number of Events |\n",
      "|-------------------+--------------------|\n",
      "|                 0 |                278 |\n",
      "|                 1 |                 19 |\n",
      "|                 2 |                 23 |\n",
      "|                 3 |                 43 |\n",
      "|                 4 |                 37 |\n",
      "|                 5 |                102 |\n",
      "|                 6 |                312 |\n",
      "+-------------------+--------------------+\n"
     ]
    }
   ],
   "source": [
    "num_event_per_weekday = list(cursor.execute(\"\"\"select strftime('%w', event_date), count(*) from event \n",
    "    group by strftime('%w', event_date);\"\"\"))\n",
    "print(tabulate(num_event_per_weekday, headers=['Day of the Week', 'Number of Events'], tablefmt='psql'))"
   ]
  },
  {
   "cell_type": "markdown",
   "id": "95a2de86",
   "metadata": {},
   "source": [
    "No surprise there. Weekends are the most popular days to host events"
   ]
  },
  {
   "cell_type": "code",
   "execution_count": 44,
   "id": "018fe360",
   "metadata": {},
   "outputs": [
    {
     "data": {
      "text/html": [
       "<div>\n",
       "<style scoped>\n",
       "    .dataframe tbody tr th:only-of-type {\n",
       "        vertical-align: middle;\n",
       "    }\n",
       "\n",
       "    .dataframe tbody tr th {\n",
       "        vertical-align: top;\n",
       "    }\n",
       "\n",
       "    .dataframe thead th {\n",
       "        text-align: right;\n",
       "    }\n",
       "</style>\n",
       "<table border=\"1\" class=\"dataframe\">\n",
       "  <thead>\n",
       "    <tr style=\"text-align: right;\">\n",
       "      <th></th>\n",
       "      <th>event_id</th>\n",
       "      <th>status</th>\n",
       "      <th>event_date</th>\n",
       "      <th>event_time</th>\n",
       "      <th>rsvp_count</th>\n",
       "      <th>waitlist_count</th>\n",
       "      <th>duration</th>\n",
       "      <th>venue_lat</th>\n",
       "      <th>venue_lon</th>\n",
       "      <th>venue_city</th>\n",
       "      <th>link</th>\n",
       "    </tr>\n",
       "  </thead>\n",
       "  <tbody>\n",
       "    <tr>\n",
       "      <th>0</th>\n",
       "      <td>109370632</td>\n",
       "      <td>past</td>\n",
       "      <td>2013-03-22</td>\n",
       "      <td>19:00</td>\n",
       "      <td>5</td>\n",
       "      <td>0</td>\n",
       "      <td>0.0</td>\n",
       "      <td>47.681561</td>\n",
       "      <td>-122.125504</td>\n",
       "      <td>Redmond</td>\n",
       "      <td>https://www.meetup.com/1-5GenAsians/events/109...</td>\n",
       "    </tr>\n",
       "    <tr>\n",
       "      <th>1</th>\n",
       "      <td>109868492</td>\n",
       "      <td>past</td>\n",
       "      <td>2013-03-23</td>\n",
       "      <td>12:30</td>\n",
       "      <td>6</td>\n",
       "      <td>0</td>\n",
       "      <td>0.0</td>\n",
       "      <td>47.528713</td>\n",
       "      <td>-121.825394</td>\n",
       "      <td>Snoqualmie</td>\n",
       "      <td>https://www.meetup.com/1-5GenAsians/events/109...</td>\n",
       "    </tr>\n",
       "    <tr>\n",
       "      <th>2</th>\n",
       "      <td>111080172</td>\n",
       "      <td>past</td>\n",
       "      <td>2013-03-30</td>\n",
       "      <td>10:00</td>\n",
       "      <td>11</td>\n",
       "      <td>0</td>\n",
       "      <td>0.0</td>\n",
       "      <td>47.612015</td>\n",
       "      <td>-122.198830</td>\n",
       "      <td>Bellevue</td>\n",
       "      <td>https://www.meetup.com/1-5GenAsians/events/111...</td>\n",
       "    </tr>\n",
       "    <tr>\n",
       "      <th>3</th>\n",
       "      <td>111088522</td>\n",
       "      <td>past</td>\n",
       "      <td>2013-03-30</td>\n",
       "      <td>12:00</td>\n",
       "      <td>3</td>\n",
       "      <td>0</td>\n",
       "      <td>0.0</td>\n",
       "      <td>48.004272</td>\n",
       "      <td>-122.214149</td>\n",
       "      <td>Everett 98201</td>\n",
       "      <td>https://www.meetup.com/1-5GenAsians/events/111...</td>\n",
       "    </tr>\n",
       "    <tr>\n",
       "      <th>4</th>\n",
       "      <td>110749042</td>\n",
       "      <td>past</td>\n",
       "      <td>2013-03-31</td>\n",
       "      <td>17:00</td>\n",
       "      <td>8</td>\n",
       "      <td>0</td>\n",
       "      <td>0.0</td>\n",
       "      <td>47.603401</td>\n",
       "      <td>-122.201317</td>\n",
       "      <td>Bellevue</td>\n",
       "      <td>https://www.meetup.com/1-5GenAsians/events/110...</td>\n",
       "    </tr>\n",
       "  </tbody>\n",
       "</table>\n",
       "</div>"
      ],
      "text/plain": [
       "    event_id status  event_date event_time  rsvp_count  waitlist_count  \\\n",
       "0  109370632   past  2013-03-22      19:00           5               0   \n",
       "1  109868492   past  2013-03-23      12:30           6               0   \n",
       "2  111080172   past  2013-03-30      10:00          11               0   \n",
       "3  111088522   past  2013-03-30      12:00           3               0   \n",
       "4  110749042   past  2013-03-31      17:00           8               0   \n",
       "\n",
       "   duration  venue_lat   venue_lon     venue_city  \\\n",
       "0       0.0  47.681561 -122.125504        Redmond   \n",
       "1       0.0  47.528713 -121.825394     Snoqualmie   \n",
       "2       0.0  47.612015 -122.198830       Bellevue   \n",
       "3       0.0  48.004272 -122.214149  Everett 98201   \n",
       "4       0.0  47.603401 -122.201317       Bellevue   \n",
       "\n",
       "                                                link  \n",
       "0  https://www.meetup.com/1-5GenAsians/events/109...  \n",
       "1  https://www.meetup.com/1-5GenAsians/events/109...  \n",
       "2  https://www.meetup.com/1-5GenAsians/events/111...  \n",
       "3  https://www.meetup.com/1-5GenAsians/events/111...  \n",
       "4  https://www.meetup.com/1-5GenAsians/events/110...  "
      ]
     },
     "execution_count": 44,
     "metadata": {},
     "output_type": "execute_result"
    }
   ],
   "source": [
    "events = pd.read_sql('SELECT * FROM event', conn)\n",
    "events.head()"
   ]
  },
  {
   "cell_type": "code",
   "execution_count": 12,
   "id": "84e8f7d1",
   "metadata": {},
   "outputs": [
    {
     "name": "stdout",
     "output_type": "stream",
     "text": [
      "<class 'pandas.core.frame.DataFrame'>\n",
      "RangeIndex: 814 entries, 0 to 813\n",
      "Data columns (total 11 columns):\n",
      " #   Column          Non-Null Count  Dtype  \n",
      "---  ------          --------------  -----  \n",
      " 0   event_id        814 non-null    object \n",
      " 1   status          814 non-null    object \n",
      " 2   event_date      814 non-null    object \n",
      " 3   event_time      814 non-null    object \n",
      " 4   rsvp_count      814 non-null    int64  \n",
      " 5   waitlist_count  814 non-null    int64  \n",
      " 6   duration        814 non-null    float64\n",
      " 7   venue_lat       762 non-null    float64\n",
      " 8   venue_lon       762 non-null    float64\n",
      " 9   venue_city      762 non-null    object \n",
      " 10  link            814 non-null    object \n",
      "dtypes: float64(3), int64(2), object(6)\n",
      "memory usage: 70.1+ KB\n"
     ]
    }
   ],
   "source": [
    "events.info()"
   ]
  },
  {
   "cell_type": "markdown",
   "id": "b83e1885",
   "metadata": {},
   "source": [
    "We need to make a few modifications. Event ID should really be an int64 but string is fine too. Status tells us whether the event was in the past or upcoming, we don't need this information. The venue city may stay as string type. Finally, the links can be useful to redirect to the Meetup page but not so much for analysis so let's remove that as well."
   ]
  },
  {
   "cell_type": "code",
   "execution_count": 45,
   "id": "59242bd3",
   "metadata": {},
   "outputs": [
    {
     "name": "stdout",
     "output_type": "stream",
     "text": [
      "<class 'pandas.core.frame.DataFrame'>\n",
      "RangeIndex: 814 entries, 0 to 813\n",
      "Data columns (total 9 columns):\n",
      " #   Column          Non-Null Count  Dtype   \n",
      "---  ------          --------------  -----   \n",
      " 0   event_id        814 non-null    object  \n",
      " 1   event_date      814 non-null    object  \n",
      " 2   event_time      814 non-null    object  \n",
      " 3   rsvp_count      814 non-null    int64   \n",
      " 4   waitlist_count  814 non-null    int64   \n",
      " 5   duration        814 non-null    float64 \n",
      " 6   venue_lat       762 non-null    float64 \n",
      " 7   venue_lon       762 non-null    float64 \n",
      " 8   venue_city      762 non-null    category\n",
      "dtypes: category(1), float64(3), int64(2), object(3)\n",
      "memory usage: 53.2+ KB\n"
     ]
    }
   ],
   "source": [
    "events['event_id'] = events['event_id'].astype('str')\n",
    "events['venue_city'] = events['venue_city'].astype('category')\n",
    "events = events.drop('status', 1)\n",
    "events = events.drop('link', 1)\n",
    "events.info()"
   ]
  },
  {
   "cell_type": "markdown",
   "id": "f3b17eeb",
   "metadata": {},
   "source": [
    "# Exploratory Data Analysis (EDA)"
   ]
  },
  {
   "cell_type": "markdown",
   "id": "7c24c44e",
   "metadata": {},
   "source": [
    "Let's begin our single variable exploration first and then analyze the pairwise relationships!"
   ]
  },
  {
   "cell_type": "markdown",
   "id": "7c11af44",
   "metadata": {},
   "source": [
    "#### Event Time"
   ]
  },
  {
   "cell_type": "code",
   "execution_count": 19,
   "id": "4bb547f4",
   "metadata": {},
   "outputs": [
    {
     "data": {
      "image/png": "[encoded data removed]",
      "text/plain": [
       "<Figure size 1296x432 with 1 Axes>"
      ]
     },
     "metadata": {},
     "output_type": "display_data"
    }
   ],
   "source": [
    "figure = plt.figure(figsize=(18, 6))\n",
    "axes = figure.add_subplot(1, 1, 1)\n",
    "axes.hist(events.event_time)\n",
    "axes.set_title(\"Distribution of Event Time\")\n",
    "axes.set_xlabel(\"Event Time\")\n",
    "axes.set_ylabel(\"Counts\")\n",
    "axes.grid(axis='x')\n",
    "plt.setp(axes.xaxis.get_majorticklabels(), rotation=70)\n",
    "plt.show()\n",
    "plt.close()"
   ]
  },
  {
   "cell_type": "code",
   "execution_count": 21,
   "id": "0c5e76df",
   "metadata": {
    "scrolled": true
   },
   "outputs": [
    {
     "data": {
      "text/plain": [
       "count       814\n",
       "unique       74\n",
       "top       18:00\n",
       "freq         71\n",
       "Name: event_time, dtype: object"
      ]
     },
     "execution_count": 21,
     "metadata": {},
     "output_type": "execute_result"
    }
   ],
   "source": [
    "events.event_time.describe()"
   ]
  },
  {
   "cell_type": "markdown",
   "id": "2063c4a5",
   "metadata": {},
   "source": [
    "Event time does not seem to be a good indicator of a variable for linear regression in the later part."
   ]
  },
  {
   "cell_type": "markdown",
   "id": "c448d290",
   "metadata": {},
   "source": [
    "#### RSVP"
   ]
  },
  {
   "cell_type": "code",
   "execution_count": 23,
   "id": "469b2ce8",
   "metadata": {},
   "outputs": [
    {
     "data": {
      "image/png": "[encoded data removed]",
      "text/plain": [
       "<Figure size 720x432 with 1 Axes>"
      ]
     },
     "metadata": {},
     "output_type": "display_data"
    }
   ],
   "source": [
    "figure = plt.figure(figsize=(10, 6))\n",
    "axes = figure.add_subplot(1, 1, 1)\n",
    "axes.hist(events.rsvp_count)\n",
    "axes.set_title(\"Distribution of RSVP\")\n",
    "axes.set_xlabel(\"RSVP\")\n",
    "axes.set_ylabel(\"Counts\")\n",
    "axes.grid(axis='x')\n",
    "plt.show()\n",
    "plt.close()"
   ]
  },
  {
   "cell_type": "code",
   "execution_count": 24,
   "id": "842e8cbf",
   "metadata": {
    "scrolled": true
   },
   "outputs": [
    {
     "data": {
      "text/plain": [
       "count    814.000000\n",
       "mean      10.968059\n",
       "std       10.296775\n",
       "min        1.000000\n",
       "25%        6.000000\n",
       "50%        9.000000\n",
       "75%       12.000000\n",
       "max      109.000000\n",
       "Name: rsvp_count, dtype: float64"
      ]
     },
     "execution_count": 24,
     "metadata": {},
     "output_type": "execute_result"
    }
   ],
   "source": [
    "events.rsvp_count.describe()"
   ]
  },
  {
   "cell_type": "markdown",
   "id": "2b9c700b",
   "metadata": {},
   "source": [
    "Looks like most reservations are between 1 to 30. There appears to be some big events that host up to 90 members."
   ]
  },
  {
   "cell_type": "markdown",
   "id": "943953a6",
   "metadata": {},
   "source": [
    "#### Waitlist Count"
   ]
  },
  {
   "cell_type": "code",
   "execution_count": 31,
   "id": "d05fdfae",
   "metadata": {},
   "outputs": [
    {
     "data": {
      "image/png": "[encoded data removed]",
      "text/plain": [
       "<Figure size 720x432 with 1 Axes>"
      ]
     },
     "metadata": {},
     "output_type": "display_data"
    }
   ],
   "source": [
    "figure = plt.figure(figsize=(10, 6))\n",
    "axes = figure.add_subplot(1, 1, 1)\n",
    "axes.hist(events.waitlist_count)\n",
    "axes.set_title(\"Distribution of Waitlist\")\n",
    "axes.set_xlabel(\"Waitlist\")\n",
    "axes.set_ylabel(\"Counts\")\n",
    "axes.grid(axis='x')\n",
    "plt.show()\n",
    "plt.close()"
   ]
  },
  {
   "cell_type": "code",
   "execution_count": 36,
   "id": "78d5f0e2",
   "metadata": {
    "scrolled": true
   },
   "outputs": [
    {
     "data": {
      "text/plain": [
       "count    814.000000\n",
       "mean       0.108108\n",
       "std        0.853678\n",
       "min        0.000000\n",
       "25%        0.000000\n",
       "50%        0.000000\n",
       "75%        0.000000\n",
       "max       13.000000\n",
       "Name: waitlist_count, dtype: float64"
      ]
     },
     "execution_count": 36,
     "metadata": {},
     "output_type": "execute_result"
    }
   ],
   "source": [
    "events.waitlist_count.describe()"
   ]
  },
  {
   "cell_type": "markdown",
   "id": "2edd106b",
   "metadata": {},
   "source": [
    "Almost every event is accounted as there doesn't seem to be much of any waitlist. This is not a good variable for analysis for our linear model later."
   ]
  },
  {
   "cell_type": "markdown",
   "id": "07c3fdb0",
   "metadata": {},
   "source": [
    "#### Venue City"
   ]
  },
  {
   "cell_type": "code",
   "execution_count": 55,
   "id": "123d0e65",
   "metadata": {},
   "outputs": [
    {
     "name": "stdout",
     "output_type": "stream",
     "text": [
      "                             venue_city\n",
      "Auburn                                1\n",
      "Beijing                               1\n",
      "Bellevue                            228\n",
      "Bellevue                              6\n",
      "Berlin                                1\n",
      "Bothell                               3\n",
      "Burien                                1\n",
      "Edmonds                               5\n",
      "Everett                               3\n",
      "Everett 98201                         1\n",
      "Federal Way                           6\n",
      "Gold Bar                              3\n",
      "Index                                 1\n",
      "Issaquah                             28\n",
      "Kenmore                               1\n",
      "Kent                                  1\n",
      "Kirkland                             47\n",
      "Kirkland                              1\n",
      "Lake Forest Park                      1\n",
      "Lynnwood                              6\n",
      "Marysville                            1\n",
      "Mercer Island                         4\n",
      "Monroe                                2\n",
      "Mount Vernon                          1\n",
      "Mountlake Ter                         1\n",
      "Mukilteo                              3\n",
      "North Bend                            1\n",
      "North Bend                            1\n",
      "Picnic Point-North Lynnwood           1\n",
      "Redmond                              52\n",
      "Redmond,                              1\n",
      "Renton                                1\n",
      "Sammamish                             1\n",
      "Seattle                             314\n",
      "Seattle                               4\n",
      "Shoreline                             1\n",
      "Skykomish                             1\n",
      "Snohomish                             3\n",
      "Snohomish,  98296                     1\n",
      "Snoqualmie                            1\n",
      "Snoqualmie Pass                       2\n",
      "Tacoma                                2\n",
      "Tukwila                               7\n",
      "Tukwila                               1\n",
      "Woodinville                           7\n",
      "renton                                1\n",
      "seattle                               2\n"
     ]
    },
    {
     "data": {
      "image/png": "[encoded data removed]",
      "text/plain": [
       "<Figure size 1440x720 with 1 Axes>"
      ]
     },
     "metadata": {},
     "output_type": "display_data"
    }
   ],
   "source": [
    "print(pd.DataFrame(events.venue_city.value_counts().sort_index()))\n",
    "\n",
    "# Sort venue cities by the count and then sort before plotting top 10 most frequented cities\n",
    "ax = events.venue_city.value_counts().sort_values().tail(10).plot.bar(figsize=(20,10),rot = 0)\n",
    "ax.set_ylabel(\"Count\")\n",
    "ax.set_xlabel(\"City\")\n",
    "ax.grid(axis='x')"
   ]
  },
  {
   "cell_type": "code",
   "execution_count": 57,
   "id": "d342eaae",
   "metadata": {},
   "outputs": [
    {
     "name": "stdout",
     "output_type": "stream",
     "text": [
      "     duration\n",
      "0.0       814\n"
     ]
    }
   ],
   "source": [
    "print(pd.DataFrame(events.duration.value_counts().sort_index()))"
   ]
  },
  {
   "cell_type": "code",
   "execution_count": null,
   "id": "547db871",
   "metadata": {},
   "outputs": [],
   "source": []
  },
  {
   "cell_type": "code",
   "execution_count": null,
   "id": "2ba52aac",
   "metadata": {},
   "outputs": [],
   "source": []
  },
  {
   "cell_type": "code",
   "execution_count": null,
   "id": "aff38423",
   "metadata": {},
   "outputs": [],
   "source": []
  },
  {
   "cell_type": "code",
   "execution_count": null,
   "id": "7e506c38",
   "metadata": {},
   "outputs": [],
   "source": []
  }
 ],
 "metadata": {
  "jupytext": {
   "formats": "ipynb,md"
  },
  "kernelspec": {
   "display_name": "Python (en685648)",
   "language": "python",
   "name": "en685648"
  },
  "language_info": {
   "codemirror_mode": {
    "name": "ipython",
    "version": 3
   },
   "file_extension": ".py",
   "mimetype": "text/x-python",
   "name": "python",
   "nbconvert_exporter": "python",
   "pygments_lexer": "ipython3",
   "version": "3.8.10"
  }
 },
 "nbformat": 4,
 "nbformat_minor": 5
}
