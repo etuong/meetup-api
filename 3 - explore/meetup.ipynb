{
 "cells": [
  {
   "cell_type": "code",
   "execution_count": 1,
   "id": "5af420e8-f5d0-45be-a49d-d6404e36783f",
   "metadata": {},
   "outputs": [],
   "source": [
    "import warnings\n",
    "warnings.filterwarnings('ignore')"
   ]
  },
  {
   "cell_type": "code",
   "execution_count": 2,
   "id": "44cbf318-6e34-46b8-bf5a-021978377d59",
   "metadata": {},
   "outputs": [],
   "source": [
    "%matplotlib inline"
   ]
  },
  {
   "cell_type": "code",
   "execution_count": 3,
   "id": "7b0f0e6c-d922-41ae-bc04-23e85ff54d1f",
   "metadata": {},
   "outputs": [],
   "source": [
    "from tabulate import tabulate\n",
    "import matplotlib.pyplot as plt\n",
    "import sqlite3"
   ]
  },
  {
   "cell_type": "code",
   "execution_count": 4,
   "id": "d1143e63-2170-4150-ae35-90c4415c5ba9",
   "metadata": {},
   "outputs": [],
   "source": [
    "con = sqlite3.connect('meetup.db')\n",
    "cursor = con.cursor()"
   ]
  },
  {
   "cell_type": "markdown",
   "id": "8fc7deab",
   "metadata": {},
   "source": [
    "Let's peek at the schema. Limit to just first 30 rows.\n",
    "\n",
    "Event can be viewed with URL https://www.meetup.com/{group_name}/events/{event_id}/\n",
    "\n",
    "For example, https://www.meetup.com/1-5GenAsians/events/281289732/"
   ]
  },
  {
   "cell_type": "code",
   "execution_count": 5,
   "id": "3740baaf",
   "metadata": {
    "scrolled": false
   },
   "outputs": [
    {
     "name": "stdout",
     "output_type": "stream",
     "text": [
      "+------------+----------+--------------+--------------+-------------------------------------------------------+\n",
      "|   Event ID | Status   | Event Date   |   RSVP Count | Link                                                  |\n",
      "|------------+----------+--------------+--------------+-------------------------------------------------------|\n",
      "|  109370632 | past     | 2013-03-22   |            5 | https://www.meetup.com/1-5GenAsians/events/109370632/ |\n",
      "|  109868492 | past     | 2013-03-23   |            6 | https://www.meetup.com/1-5GenAsians/events/109868492/ |\n",
      "|  111080172 | past     | 2013-03-30   |           11 | https://www.meetup.com/1-5GenAsians/events/111080172/ |\n",
      "|  111088522 | past     | 2013-03-30   |            3 | https://www.meetup.com/1-5GenAsians/events/111088522/ |\n",
      "|  110749042 | past     | 2013-03-31   |            8 | https://www.meetup.com/1-5GenAsians/events/110749042/ |\n",
      "|  111871212 | past     | 2013-04-05   |           10 | https://www.meetup.com/1-5GenAsians/events/111871212/ |\n",
      "|  112504332 | past     | 2013-04-06   |            8 | https://www.meetup.com/1-5GenAsians/events/112504332/ |\n",
      "|  113192492 | past     | 2013-04-12   |           10 | https://www.meetup.com/1-5GenAsians/events/113192492/ |\n",
      "|  113176612 | past     | 2013-04-13   |            4 | https://www.meetup.com/1-5GenAsians/events/113176612/ |\n",
      "|  114838502 | past     | 2013-04-19   |            3 | https://www.meetup.com/1-5GenAsians/events/114838502/ |\n",
      "|  116882312 | past     | 2013-05-03   |            8 | https://www.meetup.com/1-5GenAsians/events/116882312/ |\n",
      "|  113174462 | past     | 2013-05-04   |            6 | https://www.meetup.com/1-5GenAsians/events/113174462/ |\n",
      "|  118200732 | past     | 2013-05-11   |           10 | https://www.meetup.com/1-5GenAsians/events/118200732/ |\n",
      "|  119185682 | past     | 2013-05-18   |            9 | https://www.meetup.com/1-5GenAsians/events/119185682/ |\n",
      "|  120390832 | past     | 2013-05-24   |            8 | https://www.meetup.com/1-5GenAsians/events/120390832/ |\n",
      "|  121853942 | past     | 2013-06-02   |            9 | https://www.meetup.com/1-5GenAsians/events/121853942/ |\n",
      "|  123022632 | past     | 2013-06-07   |            8 | https://www.meetup.com/1-5GenAsians/events/123022632/ |\n",
      "|  123844992 | past     | 2013-06-15   |           25 | https://www.meetup.com/1-5GenAsians/events/123844992/ |\n",
      "|  126498932 | past     | 2013-06-28   |           11 | https://www.meetup.com/1-5GenAsians/events/126498932/ |\n",
      "|  126318262 | past     | 2013-06-29   |            1 | https://www.meetup.com/1-5GenAsians/events/126318262/ |\n",
      "|  127652212 | past     | 2013-07-03   |            4 | https://www.meetup.com/1-5GenAsians/events/127652212/ |\n",
      "|  123571462 | past     | 2013-07-06   |            3 | https://www.meetup.com/1-5GenAsians/events/123571462/ |\n",
      "|  129354962 | past     | 2013-07-13   |            3 | https://www.meetup.com/1-5GenAsians/events/129354962/ |\n",
      "|  129003072 | past     | 2013-07-13   |            7 | https://www.meetup.com/1-5GenAsians/events/129003072/ |\n",
      "|  130608792 | past     | 2013-07-27   |           20 | https://www.meetup.com/1-5GenAsians/events/130608792/ |\n",
      "|  133462162 | past     | 2013-08-10   |           12 | https://www.meetup.com/1-5GenAsians/events/133462162/ |\n",
      "|  134488172 | past     | 2013-08-17   |            9 | https://www.meetup.com/1-5GenAsians/events/134488172/ |\n",
      "|  135768512 | past     | 2013-08-24   |           21 | https://www.meetup.com/1-5GenAsians/events/135768512/ |\n",
      "|  136619502 | past     | 2013-08-31   |           11 | https://www.meetup.com/1-5GenAsians/events/136619502/ |\n",
      "|  135478542 | past     | 2013-09-07   |            9 | https://www.meetup.com/1-5GenAsians/events/135478542/ |\n",
      "+------------+----------+--------------+--------------+-------------------------------------------------------+\n"
     ]
    }
   ],
   "source": [
    "data = cursor.execute(\"select * from event limit 30;\")\n",
    "print(tabulate(data.fetchall(), headers=[\"Event ID\", \"Status\",'Event Date', 'RSVP Count', \"Link\"], tablefmt='psql'))"
   ]
  },
  {
   "cell_type": "markdown",
   "id": "21677655",
   "metadata": {},
   "source": [
    "Let's see some of the most popular events. I define this to be events with the most RSVP."
   ]
  },
  {
   "cell_type": "code",
   "execution_count": 6,
   "id": "a4d09322",
   "metadata": {},
   "outputs": [
    {
     "name": "stdout",
     "output_type": "stream",
     "text": [
      "+--------------+--------------+-------------------------------------------------------+\n",
      "| Event Date   |   RSVP Count | Link                                                  |\n",
      "|--------------+--------------+-------------------------------------------------------|\n",
      "| 2015-03-01   |          109 | https://www.meetup.com/1-5GenAsians/events/219920453/ |\n",
      "| 2014-11-02   |          105 | https://www.meetup.com/1-5GenAsians/events/212049012/ |\n",
      "| 2016-10-09   |          102 | https://www.meetup.com/1-5GenAsians/events/233570064/ |\n",
      "| 2016-04-30   |           85 | https://www.meetup.com/1-5GenAsians/events/230305968/ |\n",
      "| 2019-12-21   |           83 | https://www.meetup.com/1-5GenAsians/events/266398172/ |\n",
      "| 2018-03-24   |           82 | https://www.meetup.com/1-5GenAsians/events/248285057/ |\n",
      "| 2018-06-10   |           80 | https://www.meetup.com/1-5GenAsians/events/250424473/ |\n",
      "| 2021-08-29   |           69 | https://www.meetup.com/1-5GenAsians/events/279628714/ |\n",
      "| 2014-08-17   |           57 | https://www.meetup.com/1-5GenAsians/events/194901992/ |\n",
      "| 2019-01-26   |           54 | https://www.meetup.com/1-5GenAsians/events/257948178/ |\n",
      "| 2015-03-14   |           47 | https://www.meetup.com/1-5GenAsians/events/220103990/ |\n",
      "| 2021-10-17   |           46 | https://www.meetup.com/1-5GenAsians/events/281053389/ |\n",
      "| 2014-06-21   |           44 | https://www.meetup.com/1-5GenAsians/events/182543572/ |\n",
      "| 2017-10-14   |           43 | https://www.meetup.com/1-5GenAsians/events/243442670/ |\n",
      "| 2014-03-29   |           40 | https://www.meetup.com/1-5GenAsians/events/164683122/ |\n",
      "| 2017-06-10   |           40 | https://www.meetup.com/1-5GenAsians/events/240287833/ |\n",
      "| 2014-07-13   |           33 | https://www.meetup.com/1-5GenAsians/events/190799922/ |\n",
      "| 2018-02-18   |           32 | https://www.meetup.com/1-5GenAsians/events/247445878/ |\n",
      "| 2019-02-02   |           32 | https://www.meetup.com/1-5GenAsians/events/257999006/ |\n",
      "| 2021-10-10   |           32 | https://www.meetup.com/1-5GenAsians/events/280631869/ |\n",
      "| 2015-09-05   |           30 | https://www.meetup.com/1-5GenAsians/events/224725880/ |\n",
      "| 2015-11-21   |           30 | https://www.meetup.com/1-5GenAsians/events/226542423/ |\n",
      "| 2018-10-20   |           30 | https://www.meetup.com/1-5GenAsians/events/255446031/ |\n",
      "| 2019-08-03   |           30 | https://www.meetup.com/1-5GenAsians/events/262715304/ |\n",
      "| 2019-11-23   |           30 | https://www.meetup.com/1-5GenAsians/events/266412251/ |\n",
      "| 2021-09-25   |           28 | https://www.meetup.com/1-5GenAsians/events/280609901/ |\n",
      "| 2015-06-06   |           27 | https://www.meetup.com/1-5GenAsians/events/222782816/ |\n",
      "| 2021-10-03   |           27 | https://www.meetup.com/1-5GenAsians/events/280505220/ |\n",
      "| 2018-06-24   |           26 | https://www.meetup.com/1-5GenAsians/events/251467094/ |\n",
      "| 2013-06-15   |           25 | https://www.meetup.com/1-5GenAsians/events/123844992/ |\n",
      "+--------------+--------------+-------------------------------------------------------+\n"
     ]
    }
   ],
   "source": [
    "data = cursor.execute(\"select event_date, rsvp_count, link from event order by rsvp_count desc limit 30;\")\n",
    "print(tabulate(data.fetchall(), headers=['Event Date', 'RSVP Count', 'Link'], tablefmt='psql'))"
   ]
  },
  {
   "cell_type": "code",
   "execution_count": 7,
   "id": "92ba4269",
   "metadata": {},
   "outputs": [
    {
     "name": "stdout",
     "output_type": "stream",
     "text": [
      "Total number of events is 814\n"
     ]
    }
   ],
   "source": [
    "data = cursor.execute(\"select count(*) from event;\")\n",
    "print(f\"Total number of events is {data.fetchone()[0]}\")"
   ]
  },
  {
   "cell_type": "markdown",
   "id": "a96812b8",
   "metadata": {},
   "source": [
    "Let's see the number of events we have for each month"
   ]
  },
  {
   "cell_type": "code",
   "execution_count": 8,
   "id": "a9bc3a21",
   "metadata": {
    "scrolled": false
   },
   "outputs": [
    {
     "name": "stdout",
     "output_type": "stream",
     "text": [
      "+---------+--------------------+\n",
      "| Month   |   Number of Events |\n",
      "|---------+--------------------|\n",
      "| 2013-03 |                  5 |\n",
      "| 2013-04 |                  5 |\n",
      "| 2013-05 |                  5 |\n",
      "| 2013-06 |                  5 |\n",
      "| 2013-07 |                  5 |\n",
      "| 2013-08 |                  4 |\n",
      "| 2013-09 |                  4 |\n",
      "| 2013-10 |                  7 |\n",
      "| 2013-11 |                  9 |\n",
      "| 2013-12 |                  6 |\n",
      "| 2014-01 |                  7 |\n",
      "| 2014-02 |                  3 |\n",
      "| 2014-03 |                  3 |\n",
      "| 2014-04 |                  7 |\n",
      "| 2014-05 |                 11 |\n",
      "| 2014-06 |                  4 |\n",
      "| 2014-07 |                  3 |\n",
      "| 2014-08 |                  4 |\n",
      "| 2014-09 |                  4 |\n",
      "| 2014-10 |                  8 |\n",
      "| 2014-11 |                  4 |\n",
      "| 2014-12 |                  2 |\n",
      "| 2015-01 |                  6 |\n",
      "| 2015-02 |                  6 |\n",
      "| 2015-03 |                  6 |\n",
      "| 2015-04 |                  4 |\n",
      "| 2015-05 |                  3 |\n",
      "| 2015-06 |                  6 |\n",
      "| 2015-07 |                  3 |\n",
      "| 2015-08 |                  6 |\n",
      "| 2015-09 |                 11 |\n",
      "| 2015-10 |                 11 |\n",
      "| 2015-11 |                 12 |\n",
      "| 2015-12 |                  9 |\n",
      "| 2016-01 |                 10 |\n",
      "| 2016-02 |                 10 |\n",
      "| 2016-03 |                 17 |\n",
      "| 2016-04 |                 16 |\n",
      "| 2016-05 |                  7 |\n",
      "| 2016-06 |                  7 |\n",
      "| 2016-07 |                 11 |\n",
      "| 2016-08 |                  2 |\n",
      "| 2016-09 |                  4 |\n",
      "| 2016-10 |                  4 |\n",
      "| 2016-11 |                  4 |\n",
      "| 2016-12 |                  6 |\n",
      "| 2017-01 |                  5 |\n",
      "| 2017-02 |                  4 |\n",
      "| 2017-03 |                  2 |\n",
      "| 2017-04 |                  2 |\n",
      "| 2017-05 |                  1 |\n",
      "| 2017-06 |                  2 |\n",
      "| 2017-07 |                  3 |\n",
      "| 2017-08 |                  2 |\n",
      "| 2017-10 |                  4 |\n",
      "| 2017-11 |                  9 |\n",
      "| 2017-12 |                  5 |\n",
      "| 2018-01 |                 10 |\n",
      "| 2018-02 |                 16 |\n",
      "| 2018-03 |                 14 |\n",
      "| 2018-04 |                 16 |\n",
      "| 2018-05 |                 17 |\n",
      "| 2018-06 |                 12 |\n",
      "| 2018-07 |                 16 |\n",
      "| 2018-08 |                 12 |\n",
      "| 2018-09 |                 15 |\n",
      "| 2018-10 |                 11 |\n",
      "| 2018-11 |                 14 |\n",
      "| 2018-12 |                 12 |\n",
      "| 2019-01 |                 13 |\n",
      "| 2019-02 |                 10 |\n",
      "| 2019-03 |                 23 |\n",
      "| 2019-04 |                 12 |\n",
      "| 2019-05 |                 11 |\n",
      "| 2019-06 |                 12 |\n",
      "| 2019-07 |                 14 |\n",
      "| 2019-08 |                 17 |\n",
      "| 2019-09 |                  8 |\n",
      "| 2019-10 |                  6 |\n",
      "| 2019-11 |                  4 |\n",
      "| 2019-12 |                  9 |\n",
      "| 2020-01 |                  5 |\n",
      "| 2020-02 |                 11 |\n",
      "| 2020-03 |                  3 |\n",
      "| 2020-04 |                  6 |\n",
      "| 2020-05 |                  5 |\n",
      "| 2020-06 |                  4 |\n",
      "| 2020-07 |                  4 |\n",
      "| 2020-08 |                  2 |\n",
      "| 2020-10 |                  1 |\n",
      "| 2020-11 |                  1 |\n",
      "| 2021-01 |                  5 |\n",
      "| 2021-02 |                  3 |\n",
      "| 2021-04 |                  4 |\n",
      "| 2021-05 |                  4 |\n",
      "| 2021-06 |                  3 |\n",
      "| 2021-07 |                 12 |\n",
      "| 2021-08 |                 22 |\n",
      "| 2021-09 |                 24 |\n",
      "| 2021-10 |                 47 |\n",
      "| 2021-11 |                  7 |\n",
      "| 2021-12 |                  1 |\n",
      "| 2022-03 |                  1 |\n",
      "+---------+--------------------+\n"
     ]
    }
   ],
   "source": [
    "num_event_per_month = list(cursor.execute(\"\"\"select strftime('%Y-%m', event_date), count(*) from event \n",
    "    group by strftime('%Y-%m', event_date);\"\"\"))\n",
    "print(tabulate(num_event_per_month, headers=['Month', 'Number of Events'], tablefmt='psql'))"
   ]
  },
  {
   "cell_type": "code",
   "execution_count": 10,
   "id": "998119e0",
   "metadata": {},
   "outputs": [
    {
     "data": {
      "image/png": "[encoded data removed]",
      "text/plain": [
       "<Figure size 1440x432 with 1 Axes>"
      ]
     },
     "metadata": {
      "needs_background": "light"
     },
     "output_type": "display_data"
    }
   ],
   "source": [
    "num_event_per_month = list(num_event_per_month)[-24:]\n",
    "x = range(len(num_event_per_month))\n",
    "width = 1/1.5\n",
    "\n",
    "figure = plt.figure(figsize=(20, 6))\n",
    "\n",
    "axes = figure.add_subplot(1, 1, 1)\n",
    "axes.bar(x, [r[1] for r in num_event_per_month], width, align=\"center\")\n",
    "axes.set_xticks(x)\n",
    "axes.set_xticklabels([r[0] for r in num_event_per_month])\n",
    "axes.set_title(\"Number of Events Per Month\")\n",
    "axes.set_xlabel(\"Month\")\n",
    "axes.set_ylabel(\"# of Events\")\n",
    "axes.xaxis.grid(False)\n",
    "\n",
    "plt.setp(axes.xaxis.get_majorticklabels(), rotation=70)\n",
    "plt.show()\n",
    "plt.close();"
   ]
  },
  {
   "cell_type": "markdown",
   "id": "d0c57564",
   "metadata": {},
   "source": [
    "Next, I'm interested to see how many events we have per year and the number of events we hold per weekday"
   ]
  },
  {
   "cell_type": "code",
   "execution_count": 18,
   "id": "f4cd056e",
   "metadata": {},
   "outputs": [
    {
     "name": "stdout",
     "output_type": "stream",
     "text": [
      "+--------+--------------------+\n",
      "|   Year |   Number of Events |\n",
      "|--------+--------------------|\n",
      "|   2013 |                 55 |\n",
      "|   2014 |                 60 |\n",
      "|   2015 |                 83 |\n",
      "|   2016 |                 98 |\n",
      "|   2017 |                 39 |\n",
      "|   2018 |                165 |\n",
      "|   2019 |                139 |\n",
      "|   2020 |                 42 |\n",
      "|   2021 |                132 |\n",
      "|   2022 |                  1 |\n",
      "+--------+--------------------+\n"
     ]
    },
    {
     "data": {
      "image/png": "[encoded data removed]",
      "text/plain": [
       "<Figure size 1080x432 with 1 Axes>"
      ]
     },
     "metadata": {
      "needs_background": "light"
     },
     "output_type": "display_data"
    }
   ],
   "source": [
    "num_event_per_year = list(cursor.execute(\"\"\"select strftime('%Y', event_date), count(*) from event \n",
    "    group by strftime('%Y', event_date);\"\"\"))\n",
    "print(tabulate(num_event_per_year, headers=['Year', 'Number of Events'], tablefmt='psql'))\n",
    "\n",
    "figure = plt.figure(figsize=(15, 6))\n",
    "\n",
    "axes = figure.add_subplot(1, 1, 1)\n",
    "axes.plot([r[0] for r in num_event_per_year], [r[1] for r in num_event_per_year])\n",
    "axes.plot([r[0] for r in num_event_per_year], [r[1] for r in num_event_per_year], 'ro')\n",
    "plt.axis([-1, 10, -5, 180])\n",
    "plt.show()"
   ]
  },
  {
   "cell_type": "code",
   "execution_count": 28,
   "id": "d34b1289",
   "metadata": {},
   "outputs": [
    {
     "name": "stdout",
     "output_type": "stream",
     "text": [
      "+-------------------+--------------------+\n",
      "|   Day of the Week |   Number of Events |\n",
      "|-------------------+--------------------|\n",
      "|                 0 |                278 |\n",
      "|                 1 |                 19 |\n",
      "|                 2 |                 23 |\n",
      "|                 3 |                 43 |\n",
      "|                 4 |                 37 |\n",
      "|                 5 |                102 |\n",
      "|                 6 |                312 |\n",
      "+-------------------+--------------------+\n"
     ]
    }
   ],
   "source": [
    "num_event_per_weekday = list(cursor.execute(\"\"\"select strftime('%w', event_date), count(*) from event \n",
    "    group by strftime('%w', event_date);\"\"\"))\n",
    "print(tabulate(num_event_per_weekday, headers=['Day of the Week', 'Number of Events'], tablefmt='psql'))"
   ]
  },
  {
   "cell_type": "markdown",
   "id": "95a2de86",
   "metadata": {},
   "source": [
    "No surprise there. Weekends are the most popular days to host events"
   ]
  }
 ],
 "metadata": {
  "jupytext": {
   "formats": "ipynb,md"
  },
  "kernelspec": {
   "display_name": "Python (en685648)",
   "language": "python",
   "name": "en685648"
  },
  "language_info": {
   "codemirror_mode": {
    "name": "ipython",
    "version": 3
   },
   "file_extension": ".py",
   "mimetype": "text/x-python",
   "name": "python",
   "nbconvert_exporter": "python",
   "pygments_lexer": "ipython3",
   "version": "3.8.10"
  }
 },
 "nbformat": 4,
 "nbformat_minor": 5
}
