{
 "cells": [
  {
   "cell_type": "code",
   "execution_count": 1,
   "id": "5af420e8-f5d0-45be-a49d-d6404e36783f",
   "metadata": {},
   "outputs": [],
   "source": [
    "import warnings\n",
    "warnings.filterwarnings('ignore')"
   ]
  },
  {
   "cell_type": "code",
   "execution_count": 2,
   "id": "44cbf318-6e34-46b8-bf5a-021978377d59",
   "metadata": {},
   "outputs": [],
   "source": [
    "%matplotlib inline"
   ]
  },
  {
   "cell_type": "code",
   "execution_count": 3,
   "id": "7b0f0e6c-d922-41ae-bc04-23e85ff54d1f",
   "metadata": {},
   "outputs": [],
   "source": [
    "from tabulate import tabulate\n",
    "import sqlite3"
   ]
  },
  {
   "cell_type": "code",
   "execution_count": 4,
   "id": "d1143e63-2170-4150-ae35-90c4415c5ba9",
   "metadata": {},
   "outputs": [],
   "source": [
    "con = sqlite3.connect('meetup.db')\n",
    "cursor = con.cursor()"
   ]
  },
  {
   "cell_type": "markdown",
   "id": "2ea64973",
   "metadata": {},
   "source": [
    "Let's peek at the schema. Limit to just first 30 rows.\n",
    "\n",
    "Event can be viewed with URL https://www.meetup.com/{group_name}/events/{event_id}/\n",
    "\n",
    "For example, https://www.meetup.com/1-5GenAsians/events/281289732/"
   ]
  },
  {
   "cell_type": "code",
   "execution_count": 5,
   "id": "3740baaf",
   "metadata": {
    "scrolled": false
   },
   "outputs": [
    {
     "name": "stdout",
     "output_type": "stream",
     "text": [
      "+------------+----------+--------------+--------------+-------------------------------------------------------+\n",
      "|   Event ID | Status   | Event Date   |   RSVP Count | Link                                                  |\n",
      "|------------+----------+--------------+--------------+-------------------------------------------------------|\n",
      "|  109370632 | past     | 2013-03-22   |            5 | https://www.meetup.com/1-5GenAsians/events/109370632/ |\n",
      "|  109868492 | past     | 2013-03-23   |            6 | https://www.meetup.com/1-5GenAsians/events/109868492/ |\n",
      "|  111080172 | past     | 2013-03-30   |           11 | https://www.meetup.com/1-5GenAsians/events/111080172/ |\n",
      "|  111088522 | past     | 2013-03-30   |            3 | https://www.meetup.com/1-5GenAsians/events/111088522/ |\n",
      "|  110749042 | past     | 2013-03-31   |            8 | https://www.meetup.com/1-5GenAsians/events/110749042/ |\n",
      "|  111871212 | past     | 2013-04-05   |           10 | https://www.meetup.com/1-5GenAsians/events/111871212/ |\n",
      "|  112504332 | past     | 2013-04-06   |            8 | https://www.meetup.com/1-5GenAsians/events/112504332/ |\n",
      "|  113192492 | past     | 2013-04-12   |           10 | https://www.meetup.com/1-5GenAsians/events/113192492/ |\n",
      "|  113176612 | past     | 2013-04-13   |            4 | https://www.meetup.com/1-5GenAsians/events/113176612/ |\n",
      "|  114838502 | past     | 2013-04-19   |            3 | https://www.meetup.com/1-5GenAsians/events/114838502/ |\n",
      "|  116882312 | past     | 2013-05-03   |            8 | https://www.meetup.com/1-5GenAsians/events/116882312/ |\n",
      "|  113174462 | past     | 2013-05-04   |            6 | https://www.meetup.com/1-5GenAsians/events/113174462/ |\n",
      "|  118200732 | past     | 2013-05-11   |           10 | https://www.meetup.com/1-5GenAsians/events/118200732/ |\n",
      "|  119185682 | past     | 2013-05-18   |            9 | https://www.meetup.com/1-5GenAsians/events/119185682/ |\n",
      "|  120390832 | past     | 2013-05-24   |            8 | https://www.meetup.com/1-5GenAsians/events/120390832/ |\n",
      "|  121853942 | past     | 2013-06-02   |            9 | https://www.meetup.com/1-5GenAsians/events/121853942/ |\n",
      "|  123022632 | past     | 2013-06-07   |            8 | https://www.meetup.com/1-5GenAsians/events/123022632/ |\n",
      "|  123844992 | past     | 2013-06-15   |           25 | https://www.meetup.com/1-5GenAsians/events/123844992/ |\n",
      "|  126498932 | past     | 2013-06-28   |           11 | https://www.meetup.com/1-5GenAsians/events/126498932/ |\n",
      "|  126318262 | past     | 2013-06-29   |            1 | https://www.meetup.com/1-5GenAsians/events/126318262/ |\n",
      "|  127652212 | past     | 2013-07-03   |            4 | https://www.meetup.com/1-5GenAsians/events/127652212/ |\n",
      "|  123571462 | past     | 2013-07-06   |            3 | https://www.meetup.com/1-5GenAsians/events/123571462/ |\n",
      "|  129354962 | past     | 2013-07-13   |            3 | https://www.meetup.com/1-5GenAsians/events/129354962/ |\n",
      "|  129003072 | past     | 2013-07-13   |            7 | https://www.meetup.com/1-5GenAsians/events/129003072/ |\n",
      "|  130608792 | past     | 2013-07-27   |           20 | https://www.meetup.com/1-5GenAsians/events/130608792/ |\n",
      "|  133462162 | past     | 2013-08-10   |           12 | https://www.meetup.com/1-5GenAsians/events/133462162/ |\n",
      "|  134488172 | past     | 2013-08-17   |            9 | https://www.meetup.com/1-5GenAsians/events/134488172/ |\n",
      "|  135768512 | past     | 2013-08-24   |           21 | https://www.meetup.com/1-5GenAsians/events/135768512/ |\n",
      "|  136619502 | past     | 2013-08-31   |           11 | https://www.meetup.com/1-5GenAsians/events/136619502/ |\n",
      "|  135478542 | past     | 2013-09-07   |            9 | https://www.meetup.com/1-5GenAsians/events/135478542/ |\n",
      "+------------+----------+--------------+--------------+-------------------------------------------------------+\n"
     ]
    }
   ],
   "source": [
    "data = cursor.execute(\"select * from event limit 30;\")\n",
    "print(tabulate(data.fetchall(), headers=[\"Event ID\", \"Status\",'Event Date', 'RSVP Count', \"Link\"], tablefmt='psql'))"
   ]
  },
  {
   "cell_type": "markdown",
   "id": "bb22afae",
   "metadata": {},
   "source": [
    "Let's see some of the most popular events. I define this to be events with the most RSVP."
   ]
  },
  {
   "cell_type": "code",
   "execution_count": 6,
   "id": "c5869d4f",
   "metadata": {},
   "outputs": [
    {
     "name": "stdout",
     "output_type": "stream",
     "text": [
      "+------------+--------------+--------------+-------------------------------------------------------+\n",
      "|   Event ID | Event Date   |   RSVP Count | Link                                                  |\n",
      "|------------+--------------+--------------+-------------------------------------------------------|\n",
      "|  219920453 | 2015-03-01   |          109 | https://www.meetup.com/1-5GenAsians/events/219920453/ |\n",
      "|  212049012 | 2014-11-02   |          105 | https://www.meetup.com/1-5GenAsians/events/212049012/ |\n",
      "|  233570064 | 2016-10-09   |          102 | https://www.meetup.com/1-5GenAsians/events/233570064/ |\n",
      "|  230305968 | 2016-04-30   |           85 | https://www.meetup.com/1-5GenAsians/events/230305968/ |\n",
      "|  266398172 | 2019-12-21   |           83 | https://www.meetup.com/1-5GenAsians/events/266398172/ |\n",
      "|  248285057 | 2018-03-24   |           82 | https://www.meetup.com/1-5GenAsians/events/248285057/ |\n",
      "|  250424473 | 2018-06-10   |           80 | https://www.meetup.com/1-5GenAsians/events/250424473/ |\n",
      "|  279628714 | 2021-08-29   |           69 | https://www.meetup.com/1-5GenAsians/events/279628714/ |\n",
      "|  194901992 | 2014-08-17   |           57 | https://www.meetup.com/1-5GenAsians/events/194901992/ |\n",
      "|  257948178 | 2019-01-26   |           54 | https://www.meetup.com/1-5GenAsians/events/257948178/ |\n",
      "|  220103990 | 2015-03-14   |           47 | https://www.meetup.com/1-5GenAsians/events/220103990/ |\n",
      "|  281053389 | 2021-10-17   |           46 | https://www.meetup.com/1-5GenAsians/events/281053389/ |\n",
      "|  182543572 | 2014-06-21   |           44 | https://www.meetup.com/1-5GenAsians/events/182543572/ |\n",
      "|  243442670 | 2017-10-14   |           43 | https://www.meetup.com/1-5GenAsians/events/243442670/ |\n",
      "|  164683122 | 2014-03-29   |           40 | https://www.meetup.com/1-5GenAsians/events/164683122/ |\n",
      "|  240287833 | 2017-06-10   |           40 | https://www.meetup.com/1-5GenAsians/events/240287833/ |\n",
      "|  190799922 | 2014-07-13   |           33 | https://www.meetup.com/1-5GenAsians/events/190799922/ |\n",
      "|  247445878 | 2018-02-18   |           32 | https://www.meetup.com/1-5GenAsians/events/247445878/ |\n",
      "|  257999006 | 2019-02-02   |           32 | https://www.meetup.com/1-5GenAsians/events/257999006/ |\n",
      "|  280631869 | 2021-10-10   |           32 | https://www.meetup.com/1-5GenAsians/events/280631869/ |\n",
      "|  224725880 | 2015-09-05   |           30 | https://www.meetup.com/1-5GenAsians/events/224725880/ |\n",
      "|  226542423 | 2015-11-21   |           30 | https://www.meetup.com/1-5GenAsians/events/226542423/ |\n",
      "|  255446031 | 2018-10-20   |           30 | https://www.meetup.com/1-5GenAsians/events/255446031/ |\n",
      "|  262715304 | 2019-08-03   |           30 | https://www.meetup.com/1-5GenAsians/events/262715304/ |\n",
      "|  266412251 | 2019-11-23   |           30 | https://www.meetup.com/1-5GenAsians/events/266412251/ |\n",
      "|  280609901 | 2021-09-25   |           28 | https://www.meetup.com/1-5GenAsians/events/280609901/ |\n",
      "|  222782816 | 2015-06-06   |           27 | https://www.meetup.com/1-5GenAsians/events/222782816/ |\n",
      "|  280505220 | 2021-10-03   |           27 | https://www.meetup.com/1-5GenAsians/events/280505220/ |\n",
      "|  251467094 | 2018-06-24   |           26 | https://www.meetup.com/1-5GenAsians/events/251467094/ |\n",
      "|  123844992 | 2013-06-15   |           25 | https://www.meetup.com/1-5GenAsians/events/123844992/ |\n",
      "+------------+--------------+--------------+-------------------------------------------------------+\n"
     ]
    }
   ],
   "source": [
    "data = cursor.execute(\"select event_id, event_date, rsvp_count, link from event order by rsvp_count desc limit 30;\")\n",
    "print(tabulate(data.fetchall(), headers=[\"Event ID\", 'Event Date', 'RSVP Count', 'Link'], tablefmt='psql'))"
   ]
  },
  {
   "cell_type": "code",
   "execution_count": 11,
   "id": "6892d1fc",
   "metadata": {},
   "outputs": [
    {
     "name": "stdout",
     "output_type": "stream",
     "text": [
      "Total number of events is 814\n"
     ]
    }
   ],
   "source": [
    "data = cursor.execute(\"select count(*) from event;\")\n",
    "print(f\"Total number of events is {data.fetchone()[0]}\")"
   ]
  },
  {
   "cell_type": "code",
   "execution_count": null,
   "id": "86eb9a13",
   "metadata": {},
   "outputs": [],
   "source": []
  },
  {
   "cell_type": "code",
   "execution_count": null,
   "id": "48af6dd6",
   "metadata": {},
   "outputs": [],
   "source": []
  },
  {
   "cell_type": "code",
   "execution_count": null,
   "id": "ab3bd3a2",
   "metadata": {},
   "outputs": [],
   "source": []
  },
  {
   "cell_type": "code",
   "execution_count": null,
   "id": "9bddd97d",
   "metadata": {},
   "outputs": [],
   "source": []
  }
 ],
 "metadata": {
  "jupytext": {
   "formats": "ipynb,md"
  },
  "kernelspec": {
   "display_name": "Python (en685648)",
   "language": "python",
   "name": "en685648"
  },
  "language_info": {
   "codemirror_mode": {
    "name": "ipython",
    "version": 3
   },
   "file_extension": ".py",
   "mimetype": "text/x-python",
   "name": "python",
   "nbconvert_exporter": "python",
   "pygments_lexer": "ipython3",
   "version": "3.8.10"
  }
 },
 "nbformat": 4,
 "nbformat_minor": 5
}
